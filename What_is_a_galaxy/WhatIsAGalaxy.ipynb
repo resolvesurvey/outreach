{
 "cells": [
  {
   "cell_type": "markdown",
   "metadata": {
    "id": "ohkJsHb2lAdO"
   },
   "source": [
    "# RESOLVE DSP Tutorial #1: What is a Galaxy?\n",
    "-------------------------------------\n",
    "Written by Zack L. Hutchens, zhutchen [at] live.unc.edu<br>\n",
    "\n",
    "\n",
    "### Instructions:<br>\n",
    "\n",
    "1.   *Press SHIFT+ENTER to run each \"cell\" of code (or hit the 'play' button on the left side of the cell).*\n",
    "2. Please run the cells in order, as the codes may otherwise fail or produce incorrect results.\n",
    "3. Answer the questions in order and check your answers (bottom of this page) after completing the tutorial.\n",
    "**Estimated Time to Complete this Tutorial:** 20-30 min\n",
    "\n",
    "\n",
    "In this tutorial series, you'll have the unique opportunity to learn about galaxies using real data from the RESOLVE survey, collected from professional class instruments and observatories across the world. This first tutorial introduces the concept of a galaxy -- in particular, their compositions and sizes. You'll use a computer programming language called \"Python\" to examine the data. Python is a general-purpose programming language but is used by professional scientists and astronomers worldwide.\n",
    "\n",
    "# (1) Home, Sweet Home: The Milky Way Galaxy\n",
    "\n",
    "The word \"galaxy\" is derived from the Greek root \"galakt\", which actually means milk. That may seem strange, but it refers to the milky, whispy appearance of the Milky Way in the night sky (shown below). The Milky Way is our own galaxy, containing the Sun and the rest of our solar system, along with billions of other stars and planets. It is just one of innumerable galaxies in the Universe.<br>\n",
    "\n",
    "The Milky Way Galaxy viewed from Yellowstone National Park (Wyoming, USA):<br>\n",
    "<img src=\"https://apod.nasa.gov/apod/image/2001/StoneyWay_Jacobs_960.jpg\" width=\"500\" /><br>\n",
    "To us, the Milky Way looks like a band of light because we are inside of it. From the outside, it is shaped like a disc, with a central \"bar\" and prominent spiral arms. Here's an artist's rendition of what the Milky Way would look like from outside the Galaxy:<br>\n",
    "<img src=\"https://www.universetoday.com/wp-content/uploads/2013/10/milky_way.jpg\" width=\"300\" /><br>\n",
    "You'll learn more about the colors and physical structure (\"morphology\") of galaxies in the next tutorial.\n",
    "\n",
    "***Question 1) Visit the website for the Sloan Digital Sky Survey (https://skyserver.sdss.org/dr12/en/tools/chart/list.aspx) and click \"Get Image\" on the left hand side. Of the 25 images that appear, can you find one that has a central bar like our own Milky Way?***\n",
    "\n",
    "\n"
   ]
  },
  {
   "cell_type": "markdown",
   "metadata": {
    "id": "uRMHR2iEEVj1"
   },
   "source": [
    "# The RESOLVE Survey Data\n",
    "\n",
    "In this notebook, you'll learn about galaxies using the RESOLVE (REsolved Spectroscopy Of a Local VolumE) Survey. The RESOLVE Survey, home to UNC Chapel Hill, is a large database that contains the locations, masses, brightnesses, motions, colors, and sizes of more than 1,500 galaxies in the nearby Universe. For more information about RESOLVE, visit our website at https://resolve.astro.unc.edu.<br>\n",
    "\n",
    "\n",
    "Before we dive into our questions, we must ask the computer to \"read in\" the RESOLVE data, so we can use it to make plots and perform calculcations. Run the cell below by pressing *SHIFT+ENTER* or by hitting the 'play' button. When the program replies \"Data read successfully!\", move onto the next cell."
   ]
  },
  {
   "cell_type": "code",
   "execution_count": null,
   "metadata": {
    "colab": {
     "base_uri": "https://localhost:8080/"
    },
    "id": "_BpzII--PXOO",
    "outputId": "0d82b31e-e62e-46a8-8789-727cab0c19d9"
   },
   "outputs": [],
   "source": [
    "import numpy as np              # for math calculations\n",
    "import matplotlib.pyplot as plt # for making nice plots\n",
    "import pandas as pd             # for storing lots of data/measurements\n",
    "\n",
    "# read CSV: CSV (comma-separated values) is like an Excel spreadsheet\n",
    "resolve = pd.read_csv(\"https://users.castle.unc.edu/~zhutchen/RESOLVEDR3_outreach.csv\")\n",
    "print(\"Data read successfully!\")"
   ]
  },
  {
   "cell_type": "markdown",
   "metadata": {
    "id": "T-B08OvekpBq"
   },
   "source": [
    "To preview the data, type `print(resolve)` in the cell below, then press *SHIFT+ENTER* or press the 'play' button."
   ]
  },
  {
   "cell_type": "code",
   "execution_count": null,
   "metadata": {
    "id": "8dSbdioNkoRO"
   },
   "outputs": [],
   "source": []
  },
  {
   "cell_type": "markdown",
   "metadata": {
    "id": "RAMO5QPYlIbA"
   },
   "source": [
    "You should now see the data on your screen. Each row in the table corresponds to a different galaxy with a name like \"rf0001\" (short for RESOLVE-Fall Galaxy #0001). If you look at the bottom, you can see that we have 1443 galaxies ('rows') in this database. Each row has 22 pieces of data ('columns'), such as the name or radius of the galaxy."
   ]
  },
  {
   "cell_type": "markdown",
   "metadata": {
    "id": "8EPcD1SyaXLR"
   },
   "source": [
    "# (2) What are galaxies made of?\n",
    "\n",
    "Galaxies are vast collections of stars, gas, dust, and dark matter - all held together by the strong force of gravity. The next code block makes a *histogram* of the masses of all 1443 galaxies in the RESOLVE survey. In this case, a histogram illustrates how common it is to find a galaxy of a given mass, as a function of mass. The mass in expressed in powers of 10 (called 'log' for logarithm). If the log mass is 9, then the actual mass is $10^9$, or 1 billion times the Sun's mass (\"solar masses\")."
   ]
  },
  {
   "cell_type": "code",
   "execution_count": null,
   "metadata": {
    "colab": {
     "base_uri": "https://localhost:8080/",
     "height": 458
    },
    "id": "Ag-sj_ekXmPJ",
    "outputId": "433c67d7-6152-47e1-8ca4-ea0c6afc0a95"
   },
   "outputs": [],
   "source": [
    "plt.figure(figsize=(15,7))\n",
    "binv=np.arange(7,12,0.2)\n",
    "plt.hist(resolve.LOGMSTAR, histtype='step', bins=binv, color='darksalmon', linewidth=4, label='Mass in Stars')\n",
    "plt.hist(resolve.LOGMGAS[resolve.LOGMGAS!=0], histtype='step', bins=binv, color='darkblue', linewidth=3, label='Mass in Hydrogen + Helium Gas')\n",
    "plt.hist(np.log10(10**resolve.LOGMSTAR+10**resolve.LOGMGAS[resolve.LOGMGAS!=0]), bins=binv, alpha=0.4, label='Total Mass in Stars + Gas')\n",
    "plt.xlabel(\"log mass [solar masses]\", fontsize=14)\n",
    "plt.ylabel(\"number of galaxies\", fontsize=14)\n",
    "plt.xticks(np.arange(7,13))\n",
    "plt.gca().set_xticklabels(['7\\n(10 million)', '8\\n(100 million)', '9\\n(1 billion)', '10\\n(10 billion)', '11\\n(100 billion)', '12\\n(1 trillion)'])\n",
    "plt.legend(loc='best', fontsize=16)\n",
    "plt.show()"
   ]
  },
  {
   "cell_type": "markdown",
   "metadata": {
    "id": "suBj_1mZdLka"
   },
   "source": [
    "This histogram shows that galaxies have a wide variety of stellar and gas masses. In the RESOLVE survey, the total stellar and gas mass of a galaxy can range anywhere from about 320 million solar masses to about 1 trillion solar masses. There are plenty of galaxies even smaller than that, but they are not included in our dataset.\n",
    "\n",
    "***Question 2) Suppose a galaxy contains 10 billion solar masses of atomic hydrogen gas. One solar mass is equivalent to $10^{31}$ kilograms, so this galaxy has $10^{41}$ kg of hydrogen. If each hydrogen atom has a mass of $10^{-27}$ kg, how many hydrogen atoms are there in this galaxy?***\n",
    "\n",
    "\n",
    "In addition to stars, gas, and dust, galaxies are surrounded by giant halos of \"dark matter\". It is called \"dark\" because it does not emit, reflect, or absorb any light - so we can't see it. However, we know it exists because we can see the effects of its gravity on the rotation speeds and relative motions of galaxies. Evidence of dark matter was first discovered by [Dr. Vera Rubin](https://en.wikipedia.org/wiki/Vera_Rubin) in 1980, although it was proposed decades earlier by [Fritz Zwicky](https://en.wikipedia.org/wiki/Fritz_Zwicky). But just how much dark matter surrounds galaxies?\n",
    "\n",
    "By running the next cell, you will see the relationship between a galaxy's stellar mass (mass in stars) and the mass of its dark matter halo. The intersection of the two lines shows that if a galaxy has a stellar mass of $10^{9.7}$ (about 5 billion solar masses), then its dark matter halo has a mass of $10^{11.4}$ (about 250 billion solar masses). "
   ]
  },
  {
   "cell_type": "code",
   "execution_count": null,
   "metadata": {
    "id": "usOYpPvYdxsR"
   },
   "outputs": [],
   "source": [
    "plt.figure(figsize=(11,6))\n",
    "sel=(resolve.CENTRALFLAG==1)\n",
    "plt.plot(resolve.LOGHALOMASS[sel], resolve.LOGMSTAR[sel], 'r*', label='RESOLVE Galaxies')\n",
    "plt.axhline(9.7,color='blue',label='Stellar Mass 9.7')\n",
    "plt.axvline(11.4,color='purple',label='Halo Mass 11.4')\n",
    "plt.ylabel(\"log Stellar Mass [solar masses]\", fontsize=12)\n",
    "plt.xlabel(\"log Dark Matter Mass [solar masses]\", fontsize=12)\n",
    "plt.xticks([11,11.5,12,12.5,13,13.5,14])\n",
    "plt.yticks([8,9,10,11,12])\n",
    "plt.gca().set_xticklabels(['11\\n(100 billion)', '11.5\\n(320 billion)', '12\\n(1 trillion)', '12.5\\n(3.2 trillion)', '13\\n(10 trillion)', '13.5\\n(32 trillion)', '14\\n(100 trillion)'])\n",
    "plt.gca().set_yticklabels(['8 (100 million)', '9 (1 billion)', '10 (10 billion)', '11 (100 billion)', '12 (1 trillion)'])\n",
    "plt.legend(loc='best')\n",
    "plt.show()"
   ]
  },
  {
   "cell_type": "markdown",
   "metadata": {
    "id": "6dIPREMZMuMs"
   },
   "source": [
    "The mass in the dark matter halo surrounding a galaxy almost always outweighs the total stars inside the galaxy. \n",
    "\n",
    "***Question 3) Based on the plot above, what is the approximate dark matter halo mass for a galaxy that has a stellar mass of about $10^{10.5}$ (32 billion) solar masses?***"
   ]
  },
  {
   "cell_type": "markdown",
   "metadata": {
    "id": "NLW_TKwIEGcY"
   },
   "source": [
    "\n",
    "\n",
    "# (3) How big are galaxies?\n",
    "\n",
    "At this point, you may be wondering how big a typical galaxy is. We can use the RESOLVE survey database to answer this question. We can make a histogram of the data column `RADIUS_LY` to understand the distribution of galaxy sizes. Press *SHIFT+ENTER* in the next cell to see this histogram."
   ]
  },
  {
   "cell_type": "code",
   "execution_count": null,
   "metadata": {
    "id": "B4hBOBZIXI9V"
   },
   "outputs": [],
   "source": [
    "plt.figure(figsize=(11,4))\n",
    "plt.hist(resolve.RADIUS_LY, bins='fd', histtype='step', linewidth=4, hatch='\\\\', color='purple')\n",
    "plt.xlabel(\"Radius [light years]\",fontsize=14)\n",
    "plt.ylabel(\"Number of Galaxies\", fontsize=14)\n",
    "plt.xlim(0,100000)\n",
    "plt.show()"
   ]
  },
  {
   "cell_type": "markdown",
   "metadata": {
    "id": "tIllnzJE9rzU"
   },
   "source": [
    "You can see here that galaxies come in a wide variety of sizes. Most galaxies have a radius around 10-30 thousand light years. Our own Milky Way has a radius of 53,000 light years. Physically, this means that it would take 106,000 (2*53,000) years for a beam of light to cross the entire Milky Way. In the next cell, you can calculate the median galaxy radius using `np.median`: \n"
   ]
  },
  {
   "cell_type": "code",
   "execution_count": null,
   "metadata": {
    "id": "i6JFSK_UfFUa"
   },
   "outputs": [],
   "source": [
    "np.median(resolve.RADIUS_LY)"
   ]
  },
  {
   "cell_type": "markdown",
   "metadata": {
    "id": "Pv1P-vbKUPH8"
   },
   "source": [
    "The median radius of a galaxy is about 17,000 light-years. At 53,000 light-years across, our Milky Way is a fairly large galaxy -- most galaxies are smaller than that. \n",
    "\n",
    "***Question 4) How many miles are in a light year? Take a moment to Google this number.***\n",
    "\n",
    "***Question 5) Use the code block below to determine the average galaxy radius (use `np.mean` instead of `np.median`). Why are the mean and median so different? Hint: Think about the shape of the distribution in the above histogram.***  "
   ]
  },
  {
   "cell_type": "code",
   "execution_count": null,
   "metadata": {
    "id": "UOUj0xdazVUA"
   },
   "outputs": [],
   "source": []
  },
  {
   "cell_type": "markdown",
   "metadata": {
    "id": "heC5aQFyN1it"
   },
   "source": [
    "\n",
    "# (4) Conclusion\n",
    "\n",
    "Galaxies are enormous systems of stars, gas, dust, and dark matter. They are generally tens-of-thousands of light years across. Our solar system is orbiting in the Milky Way galaxy along with hundreds of billions of other stars. If the Milky Way were a sandbox, then our solar system would be just a single grain of sand in that vast space. Our galaxy is about 106,000 light-years across, but galaxies come in a variety of sizes, shapes, and colors. The next tutorial -- \"Galaxies and their Different Flavors\" -- will explore the different families of galaxies based on their colors and physical characteristics. \n",
    "\n",
    "# (5) Answers\n",
    "1) Of the 25 galaxies on the webpage, the most prominent bar is in J115537.91-004615.5 (3rd image on 3rd row). The galaxy J172343.2+570025.1 also has a bar (lower left image).\n",
    "\n",
    "2) There are $10^{41}$ kg of hydrogen and each atom has a mass of $10^{-27}$ kg, so the number of atoms is $10^{41}/10^{-27} = 10^{68}$ atoms.\n",
    "\n",
    "3) For a galaxy whose stellar mass is $10^{10.5}$ solar masses, the dark matter halo mass will be roughly $10^{12}$ - $10^{12.5}$ (about 1 trillion) solar masses.\n",
    "\n",
    "4) Google says that one light year is equal to about 5.9 trillion miles. What a road trip that would be!\n",
    "\n",
    "5) The mean radius is 24,000 light years, whereas the median is only 16,500. This is a consequence of the fact that distribution is \"skewed\" --- it is not symmetrical since the right side of it is much longer than the left side.\n",
    "\n",
    "\n",
    "\n",
    "<br>\n",
    "<br>\n",
    "<br>\n"
   ]
  },
  {
   "cell_type": "code",
   "execution_count": null,
   "metadata": {
    "id": "1O2jaP3UvgRr"
   },
   "outputs": [],
   "source": []
  }
 ],
 "metadata": {
  "colab": {
   "collapsed_sections": [
    "ohkJsHb2lAdO"
   ],
   "name": "RESOLVE Data Science Portal: What is a galaxy?",
   "provenance": []
  },
  "kernelspec": {
   "display_name": "Python 3 (ipykernel)",
   "language": "python",
   "name": "python3"
  },
  "language_info": {
   "codemirror_mode": {
    "name": "ipython",
    "version": 3
   },
   "file_extension": ".py",
   "mimetype": "text/x-python",
   "name": "python",
   "nbconvert_exporter": "python",
   "pygments_lexer": "ipython3",
   "version": "3.9.7"
  }
 },
 "nbformat": 4,
 "nbformat_minor": 1
}
