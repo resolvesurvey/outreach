{
 "cells": [
  {
   "cell_type": "markdown",
   "id": "8bef3b1a",
   "metadata": {},
   "source": [
    "# RESOLVE DSP Tutorial #3: The Mystery of Dark Matter\n",
    "\n",
    "### Instructions:\n",
    "1. Press SHIFT+ENTER to run each \"cell\" of code (or hit the 'play' button on the left side of the cell).\n",
    "2. Please run the cells in order, as the codes may otherwise fail or produce incorrect results. You can always start over from the Kernel menu.\n",
    "3. Answer the questions in order and check your answers against those at the bottom of this page after completing the tutorial.\n",
    "\n",
    "**Estimated Time to Complete this Tutorial**: 20-30 min\n",
    "\n",
    "In this tutorial, you will use real galaxy rotation data (called \"rotation curves\") to infer the existence of dark matter in spiral galaxies. The data for this tutorial came from the RESOLVE (REsolved Spectroscopy Of a Local VolumE) survey, which is based at the University of North Carolina at Chapel Hill. For more information about RESOLVE, or to revisit previous tutorials from this series, please visit our website at https://resolve.astro.unc.edu/pages/outreach.php."
   ]
  },
  {
   "cell_type": "code",
   "execution_count": null,
   "id": "dc90d8f0",
   "metadata": {},
   "outputs": [],
   "source": [
    "# to get started, press shift+enter or ctrl+enter to execute this cell and import the code libraries we need\n",
    "import numpy as np\n",
    "import matplotlib.pyplot as plt\n",
    "import pandas as pd"
   ]
  },
  {
   "cell_type": "markdown",
   "id": "5eb5049f",
   "metadata": {},
   "source": [
    "## Part 1: Orbits in our Solar System\n",
    "\n",
    "<img src = http://planetfacts.org/wp-content/uploads/2013/05/Planets-Orbital-Speeds.jpg\n",
    "     width = \"90%\"/>\n",
    "\n",
    "Here on Earth, we orbit the Sun at around 30 km/s (66 thousand mph). In contrast, Neptune, the most distant planet in our Solar System, orbits only at about 5 km/s. The reason is that planets orbit under the centripetal force of the Sun's gravitational pull. Using Newton's Universal Law of Gravitation, one can show that a planet in a circular orbit will have an orbital speed of\n",
    "\n",
    "$$ v_{\\rm planet} = \\sqrt{\\frac{GM_{\\rm sun}}{r_{\\rm planet}}}, $$\n",
    "\n",
    "where $G$ is Newton's gravitational constant, $M_{\\rm sun}$ is the mass of the Sun, and $r$ is the distance from the Sun to the planet.\n",
    "\n",
    "The code block below contains pre-written variables to store the value of $G$ and $M_{\\rm sun}$ as well as the distance to each planet in our Solar system. "
   ]
  },
  {
   "cell_type": "code",
   "execution_count": null,
   "id": "961943d7",
   "metadata": {},
   "outputs": [],
   "source": [
    "G_const = 6.67e-11 # m^3 / (kg s^2)\n",
    "Msun = 1.989e30 # kg\n",
    "r_planet = np.array([0.39, 0.72, 1., 1.52, 5.2, 9.5, 19.22, 30.06]) # distance to Mercury, Venus, ...., Neptune in AU\n",
    "r_planet = r_planet * 1.496e+11 # convert to meters (1 AU = 1.496e11 m)"
   ]
  },
  {
   "cell_type": "markdown",
   "id": "989879b3",
   "metadata": {},
   "source": [
    "To visualize the orbital speed equation above, let's plot it for our solar system. Based on the equation, fill in the ellipses (`...`) in the `v_planet` line below, then run the cell. To check your plot, make sure the plotted velocities are consistent with the values in the cartoon above."
   ]
  },
  {
   "cell_type": "code",
   "execution_count": null,
   "id": "a6b2d422-0446-460c-af26-a339d56bc8e6",
   "metadata": {},
   "outputs": [],
   "source": [
    "v_planet = np.sqrt((G_const)*(...)/(...)) # <--- your code here!\n",
    "v_planet = v_planet / 1000 # convert from m/s to km/s\n",
    "\n",
    "plt.figure()\n",
    "plt.plot(r_planet, v_planet, '.-', color='green')\n",
    "planet_labels=['Mercury','Venus','Earth','Mars','Jupiter','Saturn','Uranus','Neptune']\n",
    "for ii in range(len(planet_labels)):\n",
    "    plt.annotate(planet_labels[ii],xy=(r_planet[ii]+0.05e12,v_planet[ii]))\n",
    "plt.xlim(0,5.5e12)\n",
    "plt.ylim(0,50)\n",
    "plt.xlabel(\"Distance to Planet [m]\")\n",
    "plt.ylabel(\"Orbital Speed [km/s]\")\n",
    "plt.grid()\n",
    "plt.show()"
   ]
  },
  {
   "cell_type": "markdown",
   "id": "405d2409-5751-48b0-997e-7e037b6208bd",
   "metadata": {},
   "source": [
    "What you have just created is what astronomers call a ***rotation curve***, a mathematical relationship between the speeds of objects in orbit and their distances from their orbital center. The shape of this particular rotation curve is called *Keplerian* after the astronomer Johannes Kepler who first described planetary orbits in accurate mathematical form.\n",
    "\n",
    "In this example, you wrote code to calculate the orbital velocity of the planets using their distances, knowing the mass of the Sun ahead of time. But imagine instead that you were to reverse engineer this task: you could instead determine the mass of the Sun if you knew the $v_{\\rm planet}$ and $r_{\\rm planet}$ values, for example from observations of the motions and positions of the planets. **The idea that astronomers can measure an object's mass using other objects' rotation velocities around it is key to unraveling the mysteries of dark matter.**\n",
    "\n",
    "<b>Question 1: Ganymede is one of nearly 100 moons orbiting the planet Jupiter. If Ganymede orbits Jupiter at 10.9 km/s at a distance of $1.07\\times 10^6\\,\\rm km$ from Jupiter, can you calculate Jupiter's mass? Would you get the same answer from a different moon?\n",
    "\n",
    "## Part 2: Rotation Curves in Spiral Galaxies\n",
    "We can extend the idea of measuring mass using rotation curves from our Solar System to entire galaxies. The distribution of mass in a galaxy, however, is more complex. The Sun makes up >99% of the total Solar System mass at a single point at the center, whereas in galaxies, stars and gas spread throughout the galaxy. In the Andromeda galaxy (pictured below in an image from __[NASA's Astronomy Picture of the Day](https://apod.nasa.gov)__), you can see that the distribution of light and matter varies as you look across the galaxy.\n",
    "\n",
    "<img src = https://apod.nasa.gov/apod/image/0512/m31_gendler_Nmosaic1c50.jpg width = \"60%\" title=\n",
    "    \"Andromeda, nearest large neighbor of the Milky Way (Credit: NASA/Astronomy Picture of the Day)\" />\n",
    "\n",
    "To accomodate the more complicated distribution of mass in a galaxy, we can modify our equation for the orbital velocity as\n",
    "$$ v(R) = \\sqrt{\\frac{GM(R)}{R}}, $$\n",
    "where $v(R)$ is the rotation speed at a distance $R$ from the galactic center, $M(R)$ is the mass of the galaxy contained within that radius $R$, and $G$ is Newton's gravitational constant. We're treating the enclosed mass as if it were all at the center of the galaxy, the same way we treat the Earth as if its mass were all at the center of the Earth when we calculate Earth's gravity on balls, humans, and satellites.\n",
    "\n",
    "<b>Question 2: The code block below plots a rotation curve using input data for a model galaxy consisting *only* of ordinary matter like gas and stars. Re-arrange the above equation to solve for $M(R)$, then fill in the `model_mass_Msun` line to calculate the mass of the galaxy. Note that your final answer (printed by the code) will be in units of solar masses ($M_\\odot$), not kg, since we have provided distances in kiloparsecs, velocities in km/s, and Newton's gravitational constant as $G = 4.3 \\times 10^{-6}\\,\\rm km^2\\,kpc\\,M_\\odot^{-1}\\,s^{-2}$. Compare the shape of the rotation curve to the one in Part 1. Why does it not fall so fast at first, and why does the outer part look the same?</b>"
   ]
  },
  {
   "cell_type": "code",
   "execution_count": null,
   "id": "0eec9fcf-a567-47d8-9455-f79d32114899",
   "metadata": {},
   "outputs": [],
   "source": [
    "data=np.loadtxt(r'simrc.csv',delimiter=',')\n",
    "model_radius_kpc = data[:,0]\n",
    "model_velocity_kms = data[:,1]\n",
    "\n",
    "plt.figure(figsize=(9,3))\n",
    "plt.plot(model_radius_kpc, model_velocity_kms, 'k.')\n",
    "plt.xlabel(\"Radius [kpc]\")\n",
    "plt.ylabel(\"Rotation Speed [km/s]\")\n",
    "plt.show()\n",
    "\n",
    "# calculate mass of galaxy\n",
    "G_Msun_units = 4.3e-6 # km^2 kpc / (Msun s^2)\n",
    "model_mass_Msun = (...)**2. * (...) / G_Msun_units\n",
    "print(\"The total mass in this model galaxy is {:0.1f} billion solar masses\".format(model_mass_Msun[-1]/1e9))"
   ]
  },
  {
   "cell_type": "markdown",
   "id": "6852c8e2",
   "metadata": {
    "tags": []
   },
   "source": [
    "## Part 3: Vera Rubin Unveils a Mystery\n",
    "\n",
    "Rubin at Kitt Peak Observatory, 1963 (Credit: KPNO/NOIRLab/NSF/AURA) | Rubin Measuring Spectra, 1974 (Credit: NOIRLab/NSF/AURA)           \n",
    ":-------------------------:|:-------------------------:\n",
    " <img src=\"https://upload.wikimedia.org/wikipedia/commons/thumb/e/e8/Vera_Rubin_using_Kitt_Peak_National_Observatory%27s_36-inch_telescope.jpg/800px-Vera_Rubin_using_Kitt_Peak_National_Observatory%27s_36-inch_telescope.jpg\" width=\"500\" /> | <img src=\"https://i0.wp.com/eos.org/wp-content/uploads/2017/03/vera-rubin-at-scope-carnegie-1.jpg?w=820&ssl=1\" width=\"500\" /> \n",
    "\n",
    "**Vera Rubin (1928-2016)** was a U.S. astronomer who led pivotal work on galaxy rotation curves and who served as a lifelong advocate for women in STEM. Throughout the 1960s, she observed the rotation curves of hundreds of spiral galaxies (like Andromeda) using multiple telescopes. Excitingly, what she found forever changed humanity's understanding of the cosmos, and it illuminated one of the most enduring scientific puzzles about the Universe, still unsolved today. \n",
    "\n",
    "\n",
    "To rediscover her findings, you will use the following cell to analyze a *real* galaxy rotation curve from the RESOLVE survey. This small \"dwarf\" galaxy is named `rs0916` in the RESOLVE galaxy catalog and can be seen <a href=\"https://skyserver.sdss.org/dr12/en/tools/chart/navi.aspx?ra=192.11779&dec=3.440476&scale=0.2&width=120&height=120&opt=\"> at this link</a>. To analyze the data successfully, you will need to:\n",
    "\n",
    " 1. Fill in the blanks in  the `plt.plot` line -- note that `plt. plot` takes x values (orbital radii) before y values (orbital velocities).\n",
    " 2. Provide an appropriate label for the y-axis at line `plt.ylabel`.\n",
    " 3. Calculate the mass of this galaxy by filling in the blanks to compute `rs0916_mass_Msun`. Hint: G was given in the last code block in the units you want.\n",
    " \n",
    "The edited code will create a plot of the rotation curve and determine the total mass of the galaxy. You'll see that the rotation curve is actually two curves -- one for the each direction away from the center of the galaxy (where on one side the velocities are rotating toward us, and on the other side they're rotating away from us). In a model galaxy the two sides would be mirror images of each other, but in a real galaxy like this one, they're a little different."
   ]
  },
  {
   "cell_type": "code",
   "execution_count": null,
   "id": "41538fca-d664-400e-aced-a272ed19484d",
   "metadata": {},
   "outputs": [],
   "source": [
    "rs0916_rotation_curve = np.loadtxt(r\"RC_rs0916.txt\")\n",
    "rs0916_radius_kpc = np.abs(rs0916_rotation_curve[:,0]) \n",
    "rs0916_velocity_kms = np.abs(rs0916_rotation_curve[:,1])\n",
    "\n",
    "plt.figure()\n",
    "plt.plot(rs0916_radius_kpc, rs0916_velocity_kms, 'k.', label='rs0916 Rotation Curve')\n",
    "plt.xlabel(\"Distance from rs0916 Center [kpc]\")\n",
    "plt.ylabel(\"Velocity of Orbiting Stars and Gas [km/s]\")\n",
    "plt.xlim(0,25)\n",
    "plt.ylim(0,125)\n",
    "plt.legend(loc='best')\n",
    "plt.show()\n",
    "\n",
    "rs0916_mass_Msun = (rs0916_velocity_kms**2.)*(rs0916_radius_kpc) / (G_Msun_units)\n",
    "print('Total mass of rs0916 galaxy is approximately {:0.1f} billion solar masses'.format(rs0916_mass_Msun.max()/1e9))"
   ]
  },
  {
   "cell_type": "markdown",
   "id": "95a8a8b3-b787-412b-91c3-f27b1cae701f",
   "metadata": {},
   "source": [
    "<b>Question 3: This rotation curve does not resemble the Solar System rotation curve from Part #1 nor even the model galaxy rotation curve from Part #2. Also, your code should have calculated that the total mass of this galaxy is nearly 66 billion solar masses. However, based on independent measurements from the RESOLVE survey using the light emitted by the galaxy's gas and stars, the ordinary matter that our eyes and telescopes can see is only 6.7 billion solar masses. What is the percentage of this ordinary matter in `rs0916`? Compare to the model galaxy rotation curve of Part 2 -- how does the remaining matter show itself in the rotation curve? </b>\n",
    "\n",
    "The discrepancy you are seeing historically sparked the \"galaxy rotation problem,\" the scientific problem that galaxies seem to be rotating too fast given the amount of ordinary matter we can see with our telescopes. By unveiling this mystery, Vera Rubin provided the first convincing evidence that galaxies are *dominated* by an invisible and elusive type of matter that we cannot see, referred to as ***dark matter***. For this groundbreaking discovery, Rubin has been honored with many scientific awards, such as the National Medal of Science. She is also the namesake of the Vera C. Rubin Observatory, a new telescope that is designed to study dark matter and dark energy throughout the Universe.\n",
    "\n",
    "## (4) A Search for Dark Matter\n",
    "\n",
    "Rubin's work has inspired decades of experiments to probe what dark matter is and how it might work. Physicists and astronomers are still searching for answers, but here are three possibilities. \n",
    "\n",
    "### (a) Massive Compact Halo Objects (MACHOS)\n",
    "\n",
    "One early hypothesis postulated that dark matter is not actually an undiscovered or exotic type of matter, but rather just consists of ordinary matter that is too faint to see. Such MACHOs might be in the form of black holes, neutron stars, or brown dwarf stars orbiting in the halo of the Milky Way. A search called the MACHOs Project was undertaken in the 1990s, which found that only 20% or less of the Milky Way's dark matter could be in the form MACHOs. Thus, while MACHOs may partly explain the dark matter mystery, it is not sufficient by itself.\n",
    "\n",
    "### (b) Weakly Interacting Massive Particles (WIMPs)\n",
    "\n",
    "Another hypothesis for dark matter is weakly interacting massive particles (WIMPs), a new and undiscovered type of fundamental subatomic particle (like quarks and electrons). To explain dark matter, these particles would need masses greater than the proton mass and interact only gravitationally, not electromagnetically, since dark matter does not interact with light. In a fundamental physics theory called \"supersymmetry,\" WIMPs are predicted in abundance and have just the right mass to explain the dark matter problem. But unfortunately, dedicated experiments on instruments like XENON1T and the Large Hadron Collider have not yet found these WIMPs. WIMPs remain a leading candidate to explain dark matter, but the jury is still out.\n",
    "\n",
    "Xenon1T Experiment (Credit: Purdue University) | Large Hadron Collider (Credit: Lawrence Berkeley National Lab)           \n",
    ":-------------------------:|:-------------------------:\n",
    " <img src=\"https://science.purdue.edu/xenon1t/wp-content/uploads/2017/05/Figure-1.jpg\" width=\"300\" /> | <img src=\"https://newscenter.lbl.gov/wp-content/uploads/2018/06/ATLAS-LHC-CERN.jpg\" width=\"500\" /> \n",
    "\n",
    "\n",
    "### (c) Axions\n",
    "\n",
    "Axions are another type of theorized elementary particle, and if detected, could actually solve two problems in physics. In theoretical physics, axions are predicted to interact weakly and appear in extraordinary abundance, which could enable them to solve the dark matter problem. In addition, axions are a potential solution to the \"strong CP problem,\" a physics mystery about how atomic nuclei behave and decay. The Axion Dark Matter eXperiment (ADMX) began taking data in 2010 and is actively running experiments to attempt detection of these axions.\n",
    "\n",
    "ADMX Detector in Clean Room (Credit: Scientific American) | Scientists Upgrade the ADMX Detector (Credit: Washington University)           \n",
    ":-------------------------:|:-------------------------:\n",
    "<img src='https://static.scientificamerican.com/sciam/cache/file/18994F4D-726B-4355-A364C36043D20B62_source.jpg?w=900' width=\"300\" /> | <img src='https://depts.washington.edu/admx/images/gallery/gallery_insert_out_of_magnet.jpg' width='300' />\n",
    "\n",
    "\n",
    "## (5) Conclusion\n",
    "\n",
    "Rotation curves -- the mathematical relationship between rotation speed and orbital radius -- represent a fundamental way that astronomers are able to measure the mass distribution in galaxies. In this tutorial, we followed the work of astronomer Vera Rubin and her discovery that spiral galaxy rotation curves are not Keplerian; rather, they are flat. With the test case of RESOLVE galaxy `rs0916`, you used a rotation curve to show that dark matter dominates over ordinary matter (gas and stars) in this galaxy at a ratio of nearly 9:1. Finally, we discussed ongoing experiments to detect candidates for this mysterious dark matter, including MACHOs, WIMPs, and axions. \n",
    "\n",
    "<br>\n",
    "<b>Bonus Activity:</b> Check out this <a href=https://wittman.physics.ucdavis.edu/Animations/RotationCurve/index.html>rotation curve builder</a> by David Whittman (UC Davis). Can you adjust the amount of stars and dark matter to match the real rotation curve?\n",
    "\n",
    "\n",
    "## Solutions\n",
    "\n",
    "(1) Jupiter's moons follow the same equation as the planets orbiting the Sun, just with Jupiter's mass instead of the Sun's mass at the center of the orbits. Solving $v = \\sqrt{GM/r}$ for the dominant central mass $M$ we get $M=v^2r/G$. Mass of Jupiter: $M = (10900\\,{\\rm m/s})^2 (1.07\\times10^9{\\rm\\,m}) \\,/\\,(6.67\\times10^{-11}{\\rm N\\,m^2\\,kg^{-2}}) = 10877\\,{\\rm m/s} = 1.9 \\times 10^{27}\\,\\rm kg$. Note that we converted km to meters before plugging into the equation; also, we used $1{\\rm N}=1{\\rm kg\\,m\\,/\\,s^2}$. We would get the same answer using any moon of Jupiter -- the further-out moons would have lower orbital speeds so the mass of Jupiter would always come out the same.\n",
    "\n",
    "(2) Re-arranging equation yields $M(R) = \\frac{v(R)^2 G}{R}$. After substituting this equation into the code cell, the total mass of the simulated galaxy is $73.7 \\times 10^9\\, M_\\odot$. The rotation curve of the galaxy doesn't fall off as fast as the rotation curve of the Solar System because almost all the mass in the Solar System is in a point in the middle (the Sun), whereas as you go out from the center of a galaxy $M(R)$ keeps growing at first, then tapers off so you see the same falloff in the outer galaxy rotation curve as for the Solar System.\n",
    "\n",
    "(3) The ordinary matter (stars and gas) comprise 6.7 billion solar masses while the dark matter comprises 65.7 billion. Thus, the percentage of ordinary matter in `rs0916` is $\\frac{6.7}{65.7}\\times 100\\% = 10.2\\%$. The remaining \"dark matter\" is apparent because instead of falling, the `rs0916` rotation curve keeps rising, meaning even at large radii the rotation curve never gets beyond most of the galaxy's mass as it did in the falling part of the model galaxy rotation curve."
   ]
  },
  {
   "cell_type": "code",
   "execution_count": null,
   "id": "655a27e6",
   "metadata": {},
   "outputs": [],
   "source": []
  }
 ],
 "metadata": {
  "kernelspec": {
   "display_name": "Python 3 (ipykernel)",
   "language": "python",
   "name": "python3"
  },
  "language_info": {
   "codemirror_mode": {
    "name": "ipython",
    "version": 3
   },
   "file_extension": ".py",
   "mimetype": "text/x-python",
   "name": "python",
   "nbconvert_exporter": "python",
   "pygments_lexer": "ipython3",
   "version": "3.10.9"
  }
 },
 "nbformat": 4,
 "nbformat_minor": 5
}
